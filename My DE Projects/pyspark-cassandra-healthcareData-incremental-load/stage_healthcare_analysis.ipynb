{
 "cells": [
  {
   "cell_type": "code",
   "execution_count": null,
   "metadata": {
    "application/vnd.databricks.v1+cell": {
     "cellMetadata": {
      "byteLimit": 2048000,
      "rowLimit": 10000
     },
     "inputWidgets": {},
     "nuid": "836bdaf3-9b5e-44f6-8360-beaf954fb2e9",
     "showTitle": false,
     "title": ""
    }
   },
   "outputs": [],
   "source": [
    "from pyspark.sql import SparkSession\n",
    "from delta.tables import *\n",
    "import os\n",
    "import pandas as pd\n",
    "from pyspark.sql.functions import col, sum, count, when, coalesce, lit\n",
    "from pyspark.sql.types import DoubleType\n",
    "from cassandra.cluster import Cluster\n",
    "from cassandra.auth import PlainTextAuthProvider\n",
    "import json\n",
    "\n",
    "# Initialize Spark Session\n",
    "# spark = SparkSession.builder.appName(\"Data Ingestion\").getOrCreate()\n",
    "\n",
    "spark.conf.set(\"fs.gs.impl\", \"com.google.cloud.hadoop.fs.gcs.GoogleHadoopFileSystem\")\n",
    "spark.conf.set(\"fs.AbstractFileSystem.gs.impl\", \"com.google.cloud.hadoop.fs.gcs.GoogleHadoopFS\")\n",
    "spark.conf.set(\"spark.cassandra.connection.host\", \"aa93594f-b5ab-4912-994e-6156fb347536-us-east1.db.astra.datastax.com\")\n",
    "spark.conf.set(\"spark.cassandra.connection.port\", \"29042\")  # CQL Port\n",
    "\n",
    "# Configure SSL/TLS\n",
    "spark.conf.set(\"spark.cassandra.connection.ssl.enabled\", \"true\")\n",
    "spark.conf.set(\"spark.cassandra.connection.ssl.trustStore.path\", \"./trustStore.jks\")\n",
    "spark.conf.set(\"spark.cassandra.connection.ssl.trustStore.password\", \"0ub5Xk2C3Pzqjhy1m\")\n",
    "spark.conf.set(\"spark.cassandra.connection.ssl.clientAuth.enabled\", \"true\")\n",
    "spark.conf.set(\"spark.cassandra.connection.ssl.keyStore.path\", \"./identity.jks\")\n",
    "spark.conf.set(\"spark.cassandra.connection.ssl.keyStore.password\", \"G1BrN3bZO47AQMI6X\")\n",
    "\n",
    "# spark.conf.set(\"spark.driver.extraJavaOptions\", \"-Djavax.net.debug=ssl\")\n",
    "# spark.conf.set(\"spark.executor.extraJavaOptions\", \"-Djavax.net.debug=ssl\")\n",
    "\n",
    "\n",
    "# Initialize Spark Session\n",
    "spark = SparkSession.builder \\\n",
    "    .appName(\"Data Ingestion\") \\\n",
    "    .config(\"fs.gs.impl\", \"com.google.cloud.hadoop.fs.gcs.GoogleHadoopFileSystem\") \\\n",
    "    .config(\"fs.AbstractFileSystem.gs.impl\", \"com.google.cloud.hadoop.fs.gcs.GoogleHadoopFS\") \\\n",
    "    .config(\"spark.cassandra.connection.host\", \"aa93594f-b5ab-4912-994e-6156fb347536-us-east1.db.astra.datastax.com\") \\\n",
    "    .config(\"spark.cassandra.connection.port\", \"29042\") \\\n",
    "    .config(\"spark.cassandra.connection.ssl.enabled\", \"true\") \\\n",
    "    .config(\"spark.cassandra.connection.ssl.trustStore.path\", \"./trustStore.jks\") \\\n",
    "    .config(\"spark.cassandra.connection.ssl.trustStore.password\", \"0ub5Xk2C3Pzqjhy1m\") \\\n",
    "    .config(\"spark.cassandra.connection.ssl.clientAuth.enabled\", \"true\") \\\n",
    "    .config(\"spark.cassandra.connection.ssl.keyStore.path\", \"./identity.jks\") \\\n",
    "    .config(\"spark.cassandra.connection.ssl.keyStore.password\", \"G1BrN3bZO47AQMI6X\") \\\n",
    "    .getOrCreate()\n",
    "\n",
    "\n",
    "\n",
    "# Path to the service account JSON key in DBFS\n",
    "service_account_path = \"/dbfs/FileStore/shared_uploads/auth/noob2_bootcamp_407704_058a42626b1b.json\"\n",
    "\n",
    "\n",
    "# Configure Spark to use the service account JSON key for GCS authentication\n",
    "spark.conf.set(\"fs.gs.auth.service.account.json.keyfile\", service_account_path)\n",
    "\n",
    "\n",
    "# GCS bucket details\n",
    "bucket_name = \"healthcare_analysis\"\n",
    "data_directory = f\"gs://{bucket_name}/input/\"\n",
    "archive_directory = f\"gs://{bucket_name}/archive/\""
   ]
  },
  {
   "cell_type": "code",
   "execution_count": null,
   "metadata": {
    "application/vnd.databricks.v1+cell": {
     "cellMetadata": {
      "byteLimit": 2048000,
      "rowLimit": 10000
     },
     "inputWidgets": {},
     "nuid": "a36cfa26-9072-4bcd-a8ed-6a6e3942e8dc",
     "showTitle": false,
     "title": ""
    }
   },
   "outputs": [
    {
     "name": "stdout",
     "output_type": "stream",
     "text": [
      "+----------+---+------+--------------+---------------------+--------------+\n",
      "|patient_id|age|gender|diagnosis_code|diagnosis_description|diagnosis_date|\n",
      "+----------+---+------+--------------+---------------------+--------------+\n",
      "|        P1| 45|     M|          H234|  High Blood Pressure|    2023-08-01|\n",
      "|        P2| 32|     F|          D123|             Diabetes|    2023-08-01|\n",
      "|        P3| 39|     F|          H234|  High Blood Pressure|    2023-08-01|\n",
      "|        P4| 40|     F|          C345|               Cancer|    2023-08-01|\n",
      "|        P5| 52|     M|          H234|  High Blood Pressure|    2023-08-01|\n",
      "|        P6| 43|     F|          C345|               Cancer|    2023-08-01|\n",
      "|        P7| 51|     M|          D123|             Diabetes|    2023-08-01|\n",
      "|        P8| 67|     F|          H234|  High Blood Pressure|    2023-08-01|\n",
      "|        P9| 32|     F|          D123|             Diabetes|    2023-08-01|\n",
      "|       P10| 63|     M|          H234|  High Blood Pressure|    2023-08-01|\n",
      "|       P11| 61|     M|          C345|               Cancer|    2023-08-01|\n",
      "|       P12| 67|     F|          D123|             Diabetes|    2023-08-01|\n",
      "|       P13| 42|     F|          H234|  High Blood Pressure|    2023-08-01|\n",
      "|       P14| 65|     F|          H234|  High Blood Pressure|    2023-08-01|\n",
      "|       P15| 61|     F|          D123|             Diabetes|    2023-08-01|\n",
      "|       P16| 38|     F|          D123|             Diabetes|    2023-08-01|\n",
      "|       P17| 69|     F|          H234|  High Blood Pressure|    2023-08-01|\n",
      "|       P18| 62|     M|          H234|  High Blood Pressure|    2023-08-01|\n",
      "|       P19| 38|     M|          D123|             Diabetes|    2023-08-01|\n",
      "|       P20| 55|     F|          D123|             Diabetes|    2023-08-01|\n",
      "+----------+---+------+--------------+---------------------+--------------+\n",
      "only showing top 20 rows\n",
      "\n"
     ]
    }
   ],
   "source": [
    "# Read all CSV files from the specified GCS directory\n",
    "df = spark.read.csv(data_directory, inferSchema=True, header=True)\n",
    "\n",
    "df.show()"
   ]
  },
  {
   "cell_type": "code",
   "execution_count": null,
   "metadata": {
    "application/vnd.databricks.v1+cell": {
     "cellMetadata": {
      "byteLimit": 2048000,
      "rowLimit": 10000
     },
     "inputWidgets": {},
     "nuid": "86d251ec-8831-4ba8-b0b7-4d75d99553d8",
     "showTitle": false,
     "title": ""
    }
   },
   "outputs": [
    {
     "name": "stdout",
     "output_type": "stream",
     "text": [
      "Null Counts:\n",
      "+---------------------+--------------+-----------------+-------------------------+--------------------------------+-------------------------+\n",
      "|patient_id_null_count|age_null_count|gender_null_count|diagnosis_code_null_count|diagnosis_description_null_count|diagnosis_date_null_count|\n",
      "+---------------------+--------------+-----------------+-------------------------+--------------------------------+-------------------------+\n",
      "|                    0|             0|                0|                        0|                               0|                        0|\n",
      "+---------------------+--------------+-----------------+-------------------------+--------------------------------+-------------------------+\n",
      "\n",
      "Data Type Checks:\n",
      "+---------------------+--------------+-----------------+-------------------------+--------------------------------+-------------------------+\n",
      "|patient_id_type_check|age_type_check|gender_type_check|diagnosis_code_type_check|diagnosis_description_type_check|diagnosis_date_type_check|\n",
      "+---------------------+--------------+-----------------+-------------------------+--------------------------------+-------------------------+\n",
      "|                   P1|            45|                M|                     H234|             High Blood Pressure|               2023-08-01|\n",
      "|                   P2|            32|                F|                     D123|                        Diabetes|               2023-08-01|\n",
      "|                   P3|            39|                F|                     H234|             High Blood Pressure|               2023-08-01|\n",
      "|                   P4|            40|                F|                     C345|                          Cancer|               2023-08-01|\n",
      "|                   P5|            52|                M|                     H234|             High Blood Pressure|               2023-08-01|\n",
      "|                   P6|            43|                F|                     C345|                          Cancer|               2023-08-01|\n",
      "|                   P7|            51|                M|                     D123|                        Diabetes|               2023-08-01|\n",
      "|                   P8|            67|                F|                     H234|             High Blood Pressure|               2023-08-01|\n",
      "|                   P9|            32|                F|                     D123|                        Diabetes|               2023-08-01|\n",
      "|                  P10|            63|                M|                     H234|             High Blood Pressure|               2023-08-01|\n",
      "|                  P11|            61|                M|                     C345|                          Cancer|               2023-08-01|\n",
      "|                  P12|            67|                F|                     D123|                        Diabetes|               2023-08-01|\n",
      "|                  P13|            42|                F|                     H234|             High Blood Pressure|               2023-08-01|\n",
      "|                  P14|            65|                F|                     H234|             High Blood Pressure|               2023-08-01|\n",
      "|                  P15|            61|                F|                     D123|                        Diabetes|               2023-08-01|\n",
      "|                  P16|            38|                F|                     D123|                        Diabetes|               2023-08-01|\n",
      "|                  P17|            69|                F|                     H234|             High Blood Pressure|               2023-08-01|\n",
      "|                  P18|            62|                M|                     H234|             High Blood Pressure|               2023-08-01|\n",
      "|                  P19|            38|                M|                     D123|                        Diabetes|               2023-08-01|\n",
      "|                  P20|            55|                F|                     D123|                        Diabetes|               2023-08-01|\n",
      "+---------------------+--------------+-----------------+-------------------------+--------------------------------+-------------------------+\n",
      "only showing top 20 rows\n",
      "\n"
     ]
    }
   ],
   "source": [
    "# Check for null values in each column\n",
    "null_counts = df.agg(\n",
    "    *[sum(col(column).isNull().cast(\"int\")).alias(f\"{column}_null_count\") for column in df.columns]\n",
    ")\n",
    "\n",
    "# Check for data types\n",
    "data_type_checks = [col(column).cast(\"string\").alias(f\"{column}_type_check\") for column in df.columns]\n",
    "\n",
    "# Apply the data type checks\n",
    "df_check = df.select(data_type_checks)\n",
    "\n",
    "# Show the results of the checks\n",
    "print(\"Null Counts:\")\n",
    "null_counts.show()\n",
    "\n",
    "print(\"Data Type Checks:\")\n",
    "df_check.show()"
   ]
  },
  {
   "cell_type": "code",
   "execution_count": null,
   "metadata": {
    "application/vnd.databricks.v1+cell": {
     "cellMetadata": {
      "byteLimit": 2048000,
      "rowLimit": 10000
     },
     "inputWidgets": {},
     "nuid": "16f2cc45-2522-42b2-8a4a-e12a669b524b",
     "showTitle": false,
     "title": ""
    }
   },
   "outputs": [
    {
     "name": "stdout",
     "output_type": "stream",
     "text": [
      "+--------------+---------------------+---------+-------+------------------+\n",
      "|diagnosis_code|diagnosis_description|F_Females|M_Males|      Gender_Ratio|\n",
      "+--------------+---------------------+---------+-------+------------------+\n",
      "|          D123|             Diabetes|       16|     18|             1.125|\n",
      "|          C345|               Cancer|       22|     11|               0.5|\n",
      "|          H234|  High Blood Pressure|       17|     16|0.9411764705882353|\n",
      "+--------------+---------------------+---------+-------+------------------+\n",
      "\n"
     ]
    }
   ],
   "source": [
    "# Group by diagnosis_code and gender, and calculate the count for each group\n",
    "gender_counts = df.groupBy(\"diagnosis_code\",\"diagnosis_description\",\"gender\").agg(count(\"patient_id\").alias(\"counter\"))\n",
    "\n",
    "# Pivot the data to get Male and Female counts as separate columns\n",
    "gender_pivoted = gender_counts.groupBy(\"diagnosis_code\",\"diagnosis_description\").pivot(\"gender\").agg(\n",
    "    coalesce(sum(when(col(\"gender\") == \"M\", col(\"counter\"))), lit(0)).alias(\"Males\"),\n",
    "    coalesce(sum(when(col(\"gender\") == \"F\", col(\"counter\"))), lit(0)).alias(\"Females\"))\n",
    "\n",
    "# Drop F_Males and M_females columns from gender_pivoted DataFrame\n",
    "gender_pivoted = gender_pivoted.drop(\"F_Males\",\"M_Females\")\n",
    "\n",
    "# Calculate the gender ratio\n",
    "gender_ratio = gender_pivoted.withColumn(\"Gender_Ratio\", col(\"M_Males\") / col(\"F_Females\"))\n",
    "\n",
    "# Show updated DataFrame\n",
    "gender_ratio.show()"
   ]
  },
  {
   "cell_type": "code",
   "execution_count": null,
   "metadata": {
    "application/vnd.databricks.v1+cell": {
     "cellMetadata": {
      "byteLimit": 2048000,
      "rowLimit": 10000
     },
     "inputWidgets": {},
     "nuid": "b97274e3-ddc8-4e21-9320-baf6d502c578",
     "showTitle": false,
     "title": ""
    }
   },
   "outputs": [
    {
     "name": "stdout",
     "output_type": "stream",
     "text": [
      "Cassandra Connection Sucessful\n"
     ]
    }
   ],
   "source": [
    "# Connecting to CassandraDB using Datastax\n",
    "# This secure connect bundle is autogenerated when you download your SCB, \n",
    "# if yours is different update the file name below\n",
    "cloud_config= {\n",
    "  'secure_connect_bundle': '/dbfs/FileStore/shared_uploads/secure_connect_healthcare_db.zip'\n",
    "}\n",
    "\n",
    "# This token JSON file is autogenerated when you download your token, \n",
    "# if yours is different update the file name below\n",
    "with open(\"/dbfs/FileStore/shared_uploads/healthcare_db_token__1_.json\") as f:\n",
    "    secrets = json.load(f)\n",
    "\n",
    "CLIENT_ID = secrets[\"clientId\"]\n",
    "CLIENT_SECRET = secrets[\"secret\"]\n",
    "\n",
    "auth_provider = PlainTextAuthProvider(CLIENT_ID, CLIENT_SECRET)\n",
    "cluster = Cluster(cloud=cloud_config, auth_provider=auth_provider)\n",
    "session = cluster.connect()\n",
    "\n",
    "row = session.execute(\"select release_version from system.local\").one()\n",
    "if row:\n",
    "  print(\"Cassandra Connection Sucessful\")\n",
    "else:\n",
    "  print(\"An error occurred.\")\n",
    "\n",
    "keyspace=\"healthcare\"\n",
    "table='stage_disease_ratio'"
   ]
  },
  {
   "cell_type": "code",
   "execution_count": null,
   "metadata": {
    "application/vnd.databricks.v1+cell": {
     "cellMetadata": {
      "byteLimit": 2048000,
      "rowLimit": 10000
     },
     "inputWidgets": {},
     "nuid": "b8b0bd83-b937-480a-a633-978a8a7bfa08",
     "showTitle": false,
     "title": ""
    }
   },
   "outputs": [],
   "source": [
    "# Check if the table exists\n",
    "existing_table_query = f\"SELECT table_name FROM system_schema.tables WHERE keyspace_name = '{keyspace}' AND table_name = '{table}'\"\n",
    "existing_table_result = session.execute(existing_table_query)\n",
    "\n",
    "if existing_table_result.one():\n",
    "    # Table exists, truncate (delete all data)\n",
    "    truncate_query = f\"TRUNCATE TABLE {keyspace}.{table}\"\n",
    "    session.execute(truncate_query)\n",
    "else:\n",
    "    # Table does not exist, create it\n",
    "    create_table_query = f\"\"\"\n",
    "    CREATE TABLE IF NOT EXISTS healthcare.stage_disease_ratio (\n",
    "        diagnosis_code TEXT PRIMARY KEY,\n",
    "        diagnosis_description TEXT,\n",
    "        F_Females INT,\n",
    "        M_Males INT,\n",
    "        Gender_Ratio DOUBLE\n",
    "    )\n",
    "    \"\"\"\n",
    "    session.execute(create_table_query)\n",
    "\n",
    "# Convert Spark DataFrame to Pandas DataFrame\n",
    "pandas_df = gender_ratio.toPandas()\n",
    "\n",
    "# Insert data into Cassandra table\n",
    "for index, row in pandas_df.iterrows():\n",
    "    insert_query = f\"\"\"\n",
    "    INSERT INTO healthcare.stage_disease_ratio\n",
    "    (diagnosis_code, diagnosis_description, F_Females, M_Males, Gender_Ratio)\n",
    "    VALUES ('{row['diagnosis_code']}', '{row['diagnosis_description']}', \n",
    "            {row['F_Females']}, {row['M_Males']}, {row['Gender_Ratio']})\n",
    "    \"\"\"\n",
    "    session.execute(insert_query)\n"
   ]
  },
  {
   "cell_type": "code",
   "execution_count": null,
   "metadata": {
    "application/vnd.databricks.v1+cell": {
     "cellMetadata": {
      "byteLimit": 2048000,
      "rowLimit": 10000
     },
     "inputWidgets": {},
     "nuid": "9d962078-d4d8-42b3-94d2-69851ff6cbc9",
     "showTitle": false,
     "title": ""
    }
   },
   "outputs": [
    {
     "name": "stdout",
     "output_type": "stream",
     "text": [
      "Row(diagnosis_code='C345', diagnosis_description='Cancer', f_females=22, gender_ratio=0.5, m_males=11)\n",
      "Row(diagnosis_code='D123', diagnosis_description='Diabetes', f_females=16, gender_ratio=1.125, m_males=18)\n",
      "Row(diagnosis_code='H234', diagnosis_description='High Blood Pressure', f_females=17, gender_ratio=0.9411764705882353, m_males=16)\n"
     ]
    }
   ],
   "source": [
    "# CHECKER\n",
    "\n",
    "query = \"SELECT * FROM healthcare.stage_disease_ratio\"\n",
    "result = session.execute(query)\n",
    "\n",
    "# Print the results\n",
    "for row in result:\n",
    "    print(row)"
   ]
  },
  {
   "cell_type": "code",
   "execution_count": null,
   "metadata": {
    "application/vnd.databricks.v1+cell": {
     "cellMetadata": {
      "byteLimit": 2048000,
      "rowLimit": 10000
     },
     "inputWidgets": {},
     "nuid": "5f844dd2-d496-4c91-9513-28a665ae9719",
     "showTitle": false,
     "title": ""
    }
   },
   "outputs": [
    {
     "name": "stdout",
     "output_type": "stream",
     "text": [
      "+----+--------------+---------------------+\n",
      "|Rank|diagnosis_code|diagnosis_description|\n",
      "+----+--------------+---------------------+\n",
      "|   1|          D123|             Diabetes|\n",
      "|   2|          C345|               Cancer|\n",
      "|   3|          H234|  High Blood Pressure|\n",
      "+----+--------------+---------------------+\n",
      "\n"
     ]
    }
   ],
   "source": [
    "df.createOrReplaceTempView(\"patient_data\")\n",
    "\n",
    "# Use SQL to find the top 3 common diseases\n",
    "top3_query = \"\"\"\n",
    "    SELECT\n",
    "        ROW_NUMBER() OVER (ORDER BY count(*) DESC) AS Rank,\n",
    "        diagnosis_code,\n",
    "        diagnosis_description\n",
    "    FROM\n",
    "        patient_data\n",
    "    GROUP BY\n",
    "        diagnosis_code, diagnosis_description\n",
    "    ORDER BY\n",
    "        Rank\n",
    "    LIMIT 3\n",
    "\"\"\"\n",
    "\n",
    "top3 = spark.sql(top3_query)\n",
    "\n",
    "# Show the resulting DataFrame\n",
    "top3.show()"
   ]
  },
  {
   "cell_type": "code",
   "execution_count": null,
   "metadata": {
    "application/vnd.databricks.v1+cell": {
     "cellMetadata": {
      "byteLimit": 2048000,
      "rowLimit": 10000
     },
     "inputWidgets": {},
     "nuid": "0e1e743d-86d4-4de4-9e6d-72ddfced43d7",
     "showTitle": false,
     "title": ""
    }
   },
   "outputs": [],
   "source": [
    "keyspace=\"healthcare\"\n",
    "table='stage_top3'\n",
    "\n",
    "\n",
    "# Check if the table exists\n",
    "existing_table_query = f\"SELECT table_name FROM system_schema.tables WHERE keyspace_name = '{keyspace}' AND table_name = '{table}'\"\n",
    "existing_table_result = session.execute(existing_table_query)\n",
    "\n",
    "if existing_table_result.one():\n",
    "    # Table exists, truncate (delete all data)\n",
    "    truncate_query = f\"TRUNCATE TABLE {keyspace}.{table}\"\n",
    "    session.execute(truncate_query)\n",
    "else:\n",
    "    # Table does not exist, create it\n",
    "    create_table_query = f\"\"\"\n",
    "    CREATE TABLE IF NOT EXISTS healthcare.stage_top3 (\n",
    "        Rank INT PRIMARY KEY,\n",
    "        Diagnosis_code TEXT,\n",
    "        Diagnosis_description TEXT\n",
    "    )\n",
    "    \"\"\"\n",
    "    session.execute(create_table_query)\n",
    "\n",
    "# Convert Spark DataFrame to Pandas DataFrame\n",
    "pandas_df = top3.toPandas()\n",
    "\n",
    "# Insert data into Cassandra table\n",
    "for index, row in pandas_df.iterrows():\n",
    "    insert_query = f\"\"\"\n",
    "    INSERT INTO healthcare.stage_top3\n",
    "    (Rank,Diagnosis_code, Diagnosis_description)\n",
    "    VALUES ('{row['Rank']}', '{row['diagnosis_code']}', '{row['diagnosis_description']}')\n",
    "    \"\"\"\n",
    "    session.execute(insert_query)"
   ]
  },
  {
   "cell_type": "code",
   "execution_count": null,
   "metadata": {
    "application/vnd.databricks.v1+cell": {
     "cellMetadata": {
      "byteLimit": 2048000,
      "rowLimit": 10000
     },
     "inputWidgets": {},
     "nuid": "edee14ab-9e89-4949-a630-64a9cc42f4b5",
     "showTitle": false,
     "title": ""
    }
   },
   "outputs": [
    {
     "name": "stdout",
     "output_type": "stream",
     "text": [
      "Row(rank='3', diagnosis_code='H234', diagnosis_description='High Blood Pressure')\n",
      "Row(rank='2', diagnosis_code='C345', diagnosis_description='Cancer')\n",
      "Row(rank='1', diagnosis_code='D123', diagnosis_description='Diabetes')\n"
     ]
    }
   ],
   "source": [
    "# CHECKER\n",
    "\n",
    "query = \"SELECT * FROM healthcare.stage_top3\"\n",
    "result = session.execute(query)\n",
    "\n",
    "# Print the results\n",
    "for row in result:\n",
    "    print(row)"
   ]
  },
  {
   "cell_type": "code",
   "execution_count": null,
   "metadata": {
    "application/vnd.databricks.v1+cell": {
     "cellMetadata": {
      "byteLimit": 2048000,
      "rowLimit": 10000
     },
     "inputWidgets": {},
     "nuid": "abc58192-3422-4f66-944e-37a21448c64f",
     "showTitle": false,
     "title": ""
    }
   },
   "outputs": [
    {
     "name": "stdout",
     "output_type": "stream",
     "text": [
      "+--------------+---------------------+------------+-------------+-----------------+\n",
      "|diagnosis_code|diagnosis_description|age_category|patient_count|code_age_category|\n",
      "+--------------+---------------------+------------+-------------+-----------------+\n",
      "|          H234|  High Blood Pressure|       51-60|            9|       H234_51-60|\n",
      "|          D123|             Diabetes|         61+|            9|         D123_61+|\n",
      "|          H234|  High Blood Pressure|         61+|            9|         H234_61+|\n",
      "|          C345|               Cancer|       30-40|            6|       C345_30-40|\n",
      "|          D123|             Diabetes|       30-40|            8|       D123_30-40|\n",
      "|          D123|             Diabetes|       51-60|           12|       D123_51-60|\n",
      "|          C345|               Cancer|         61+|            8|         C345_61+|\n",
      "|          D123|             Diabetes|       41-50|            5|       D123_41-50|\n",
      "|          C345|               Cancer|       41-50|           14|       C345_41-50|\n",
      "|          H234|  High Blood Pressure|       41-50|            8|       H234_41-50|\n",
      "|          H234|  High Blood Pressure|       30-40|            7|       H234_30-40|\n",
      "|          C345|               Cancer|       51-60|            5|       C345_51-60|\n",
      "+--------------+---------------------+------------+-------------+-----------------+\n",
      "\n"
     ]
    }
   ],
   "source": [
    "\n",
    "\n",
    "# Use SQL to create age buckets\n",
    "distro_query = \"\"\"\n",
    "    SELECT\n",
    "        diagnosis_code,\n",
    "        diagnosis_description,\n",
    "        CASE\n",
    "            WHEN age >= 30 AND age < 40 THEN '30-40'\n",
    "            WHEN age >= 40 AND age < 50 THEN '41-50'\n",
    "            WHEN age >= 50 AND age < 60 THEN '51-60'\n",
    "            WHEN age >= 60 THEN '61+'\n",
    "        END AS age_category,\n",
    "        COUNT(patient_id) AS patient_count,\n",
    "        CONCAT(diagnosis_code, '_', \n",
    "            CASE\n",
    "               WHEN age >= 30 AND age < 40 THEN '30-40'\n",
    "               WHEN age >= 40 AND age < 50 THEN '41-50'\n",
    "               WHEN age >= 50 AND age < 60 THEN '51-60'\n",
    "               WHEN age >= 60 THEN '61+'\n",
    "            END) AS code_age_category\n",
    "    FROM\n",
    "        patient_data\n",
    "    GROUP BY\n",
    "        diagnosis_code, diagnosis_description, age_category\n",
    "\"\"\"\n",
    "\n",
    "distro = spark.sql(distro_query)\n",
    "\n",
    "# Show the resulting DataFrame\n",
    "distro.show()"
   ]
  },
  {
   "cell_type": "code",
   "execution_count": null,
   "metadata": {
    "application/vnd.databricks.v1+cell": {
     "cellMetadata": {
      "byteLimit": 2048000,
      "rowLimit": 10000
     },
     "inputWidgets": {},
     "nuid": "78066517-9b8f-4729-b66c-cfaeef658b3d",
     "showTitle": false,
     "title": ""
    }
   },
   "outputs": [],
   "source": [
    "keyspace=\"healthcare\"\n",
    "table='stage_age_distro'\n",
    "\n",
    "\n",
    "# Check if the table exists\n",
    "existing_table_query = f\"SELECT table_name FROM system_schema.tables WHERE keyspace_name = '{keyspace}' AND table_name = '{table}'\"\n",
    "existing_table_result = session.execute(existing_table_query)\n",
    "\n",
    "if existing_table_result.one():\n",
    "    # Table exists, truncate (delete all data)\n",
    "    truncate_query = f\"TRUNCATE TABLE {keyspace}.{table}\"\n",
    "    session.execute(truncate_query)\n",
    "else:\n",
    "    # Table does not exist, create it\n",
    "    create_table_query = f\"\"\"\n",
    "    CREATE TABLE IF NOT EXISTS healthcare.stage_age_distro (\n",
    "        Diagnosis_code TEXT,\n",
    "        Diagnosis_description TEXT,\n",
    "        age_category TEXT,\n",
    "        patient_count INT,\n",
    "        code_age_category TEXT PRIMARY KEY\n",
    "    )\n",
    "    \"\"\"\n",
    "    session.execute(create_table_query)\n",
    "\n",
    "# Convert Spark DataFrame to Pandas DataFrame\n",
    "pandas_df = distro.toPandas()\n",
    "\n",
    "# Insert data into Cassandra table\n",
    "for index, row in pandas_df.iterrows():\n",
    "    insert_query = f\"\"\"\n",
    "    INSERT INTO healthcare.stage_age_distro\n",
    "    (Diagnosis_code, Diagnosis_description,age_category,patient_count,code_age_category)\n",
    "    VALUES ('{row['diagnosis_code']}', '{row['diagnosis_description']}','{row['age_category']}',{row['patient_count']},'{row['code_age_category']}')\n",
    "    \"\"\"\n",
    "    session.execute(insert_query)"
   ]
  },
  {
   "cell_type": "code",
   "execution_count": null,
   "metadata": {
    "application/vnd.databricks.v1+cell": {
     "cellMetadata": {
      "byteLimit": 2048000,
      "rowLimit": 10000
     },
     "inputWidgets": {},
     "nuid": "e1aea99b-238c-4415-a37d-d24a8d4a0ac6",
     "showTitle": false,
     "title": ""
    }
   },
   "outputs": [
    {
     "name": "stdout",
     "output_type": "stream",
     "text": [
      "Row(code_age_category='D123_51-60', age_category='51-60', diagnosis_code='D123', diagnosis_description='Diabetes', patient_count=12)\n",
      "Row(code_age_category='H234_41-50', age_category='41-50', diagnosis_code='H234', diagnosis_description='High Blood Pressure', patient_count=8)\n",
      "Row(code_age_category='C345_61+', age_category='61+', diagnosis_code='C345', diagnosis_description='Cancer', patient_count=8)\n",
      "Row(code_age_category='H234_61+', age_category='61+', diagnosis_code='H234', diagnosis_description='High Blood Pressure', patient_count=9)\n",
      "Row(code_age_category='D123_41-50', age_category='41-50', diagnosis_code='D123', diagnosis_description='Diabetes', patient_count=5)\n",
      "Row(code_age_category='C345_51-60', age_category='51-60', diagnosis_code='C345', diagnosis_description='Cancer', patient_count=5)\n",
      "Row(code_age_category='H234_51-60', age_category='51-60', diagnosis_code='H234', diagnosis_description='High Blood Pressure', patient_count=9)\n",
      "Row(code_age_category='H234_30-40', age_category='30-40', diagnosis_code='H234', diagnosis_description='High Blood Pressure', patient_count=7)\n",
      "Row(code_age_category='D123_30-40', age_category='30-40', diagnosis_code='D123', diagnosis_description='Diabetes', patient_count=8)\n",
      "Row(code_age_category='D123_61+', age_category='61+', diagnosis_code='D123', diagnosis_description='Diabetes', patient_count=9)\n",
      "Row(code_age_category='C345_41-50', age_category='41-50', diagnosis_code='C345', diagnosis_description='Cancer', patient_count=14)\n",
      "Row(code_age_category='C345_30-40', age_category='30-40', diagnosis_code='C345', diagnosis_description='Cancer', patient_count=6)\n"
     ]
    }
   ],
   "source": [
    "# CHECKER\n",
    "\n",
    "query = \"SELECT * FROM healthcare.stage_age_distro\"\n",
    "result = session.execute(query)\n",
    "\n",
    "# Print the results\n",
    "for row in result:\n",
    "    print(row)"
   ]
  },
  {
   "cell_type": "code",
   "execution_count": null,
   "metadata": {
    "application/vnd.databricks.v1+cell": {
     "cellMetadata": {
      "byteLimit": 2048000,
      "rowLimit": 10000
     },
     "inputWidgets": {},
     "nuid": "4104acbb-fc92-4630-99a1-fea927e937aa",
     "showTitle": false,
     "title": ""
    }
   },
   "outputs": [
    {
     "name": "stdout",
     "output_type": "stream",
     "text": [
      "+----------+---+-------------------+\n",
      "|patient_id|age|senior_citizen_flag|\n",
      "+----------+---+-------------------+\n",
      "|        P1| 45|                  N|\n",
      "|        P2| 32|                  N|\n",
      "|        P3| 39|                  N|\n",
      "|        P4| 40|                  N|\n",
      "|        P5| 52|                  N|\n",
      "|        P6| 43|                  N|\n",
      "|        P7| 51|                  N|\n",
      "|        P8| 67|                  Y|\n",
      "|        P9| 32|                  N|\n",
      "|       P10| 63|                  Y|\n",
      "|       P11| 61|                  Y|\n",
      "|       P12| 67|                  Y|\n",
      "|       P13| 42|                  N|\n",
      "|       P14| 65|                  Y|\n",
      "|       P15| 61|                  Y|\n",
      "|       P16| 38|                  N|\n",
      "|       P17| 69|                  Y|\n",
      "|       P18| 62|                  Y|\n",
      "|       P19| 38|                  N|\n",
      "|       P20| 55|                  N|\n",
      "+----------+---+-------------------+\n",
      "only showing top 20 rows\n",
      "\n"
     ]
    }
   ],
   "source": [
    "# Use SQL to flag senior citizens\n",
    "senior_query = \"\"\"\n",
    "    SELECT\n",
    "        patient_id,age,Case when age>=60 THEN 'Y'\n",
    "        ELSE 'N' END as senior_citizen_flag\n",
    "    FROM\n",
    "        patient_data\n",
    "\"\"\"\n",
    "\n",
    "senior = spark.sql(senior_query)\n",
    "\n",
    "# Show the resulting DataFrame\n",
    "senior.show()"
   ]
  },
  {
   "cell_type": "code",
   "execution_count": null,
   "metadata": {
    "application/vnd.databricks.v1+cell": {
     "cellMetadata": {
      "byteLimit": 2048000,
      "rowLimit": 10000
     },
     "inputWidgets": {},
     "nuid": "a963b5b8-d4a2-4f01-b0d5-4ae813171792",
     "showTitle": false,
     "title": ""
    }
   },
   "outputs": [],
   "source": [
    "keyspace=\"healthcare\"\n",
    "table='stage_senior_citizen'\n",
    "\n",
    "\n",
    "# Check if the table exists\n",
    "existing_table_query = f\"SELECT table_name FROM system_schema.tables WHERE keyspace_name = '{keyspace}' AND table_name = '{table}'\"\n",
    "existing_table_result = session.execute(existing_table_query)\n",
    "\n",
    "if existing_table_result.one():\n",
    "    # Table exists, truncate (delete all data)\n",
    "    truncate_query = f\"TRUNCATE TABLE {keyspace}.{table}\"\n",
    "    session.execute(truncate_query)\n",
    "else:\n",
    "    # Table does not exist, create it\n",
    "    create_table_query = f\"\"\"\n",
    "    CREATE TABLE IF NOT EXISTS healthcare.stage_senior_citizen (\n",
    "        patient_id TEXT PRIMARY KEY,\n",
    "        age INT,\n",
    "        senior_citizen_flag TEXT,\n",
    "    )\n",
    "    \"\"\"\n",
    "    session.execute(create_table_query)\n",
    "\n",
    "# Convert Spark DataFrame to Pandas DataFrame\n",
    "pandas_df = senior.toPandas()\n",
    "\n",
    "# Insert data into Cassandra table\n",
    "for index, row in pandas_df.iterrows():\n",
    "    insert_query = f\"\"\"\n",
    "    INSERT INTO healthcare.stage_senior_citizen\n",
    "    (patient_id,age,senior_citizen_flag)\n",
    "    VALUES ('{row['patient_id']}',{row['age']},'{row['senior_citizen_flag']}')\n",
    "    \"\"\"\n",
    "    session.execute(insert_query)"
   ]
  },
  {
   "cell_type": "code",
   "execution_count": null,
   "metadata": {
    "application/vnd.databricks.v1+cell": {
     "cellMetadata": {
      "byteLimit": 2048000,
      "rowLimit": 10000
     },
     "inputWidgets": {},
     "nuid": "53c0110e-e1c6-49d0-a78d-c46567631a3d",
     "showTitle": false,
     "title": ""
    }
   },
   "outputs": [
    {
     "name": "stdout",
     "output_type": "stream",
     "text": [
      "Row(patient_id='P78', age=34, senior_citizen_flag='N')\n",
      "Row(patient_id='P24', age=53, senior_citizen_flag='N')\n",
      "Row(patient_id='P54', age=44, senior_citizen_flag='N')\n",
      "Row(patient_id='P97', age=56, senior_citizen_flag='N')\n",
      "Row(patient_id='P39', age=31, senior_citizen_flag='N')\n",
      "Row(patient_id='P41', age=50, senior_citizen_flag='N')\n",
      "Row(patient_id='P61', age=35, senior_citizen_flag='N')\n",
      "Row(patient_id='P46', age=47, senior_citizen_flag='N')\n",
      "Row(patient_id='P11', age=61, senior_citizen_flag='Y')\n",
      "Row(patient_id='P3', age=39, senior_citizen_flag='N')\n",
      "Row(patient_id='P30', age=43, senior_citizen_flag='N')\n",
      "Row(patient_id='P47', age=56, senior_citizen_flag='N')\n",
      "Row(patient_id='P52', age=36, senior_citizen_flag='N')\n",
      "Row(patient_id='P10', age=63, senior_citizen_flag='Y')\n",
      "Row(patient_id='P58', age=63, senior_citizen_flag='Y')\n",
      "Row(patient_id='P86', age=31, senior_citizen_flag='N')\n",
      "Row(patient_id='P90', age=59, senior_citizen_flag='N')\n",
      "Row(patient_id='P12', age=67, senior_citizen_flag='Y')\n",
      "Row(patient_id='P82', age=67, senior_citizen_flag='Y')\n",
      "Row(patient_id='P73', age=70, senior_citizen_flag='Y')\n",
      "Row(patient_id='P72', age=48, senior_citizen_flag='N')\n",
      "Row(patient_id='P67', age=52, senior_citizen_flag='N')\n",
      "Row(patient_id='P18', age=62, senior_citizen_flag='Y')\n",
      "Row(patient_id='P95', age=70, senior_citizen_flag='Y')\n",
      "Row(patient_id='P40', age=51, senior_citizen_flag='N')\n",
      "Row(patient_id='P91', age=55, senior_citizen_flag='N')\n",
      "Row(patient_id='P65', age=65, senior_citizen_flag='Y')\n",
      "Row(patient_id='P60', age=30, senior_citizen_flag='N')\n",
      "Row(patient_id='P83', age=47, senior_citizen_flag='N')\n",
      "Row(patient_id='P33', age=36, senior_citizen_flag='N')\n",
      "Row(patient_id='P66', age=63, senior_citizen_flag='Y')\n",
      "Row(patient_id='P92', age=43, senior_citizen_flag='N')\n",
      "Row(patient_id='P7', age=51, senior_citizen_flag='N')\n",
      "Row(patient_id='P70', age=67, senior_citizen_flag='Y')\n",
      "Row(patient_id='P88', age=46, senior_citizen_flag='N')\n",
      "Row(patient_id='P38', age=43, senior_citizen_flag='N')\n",
      "Row(patient_id='P84', age=31, senior_citizen_flag='N')\n",
      "Row(patient_id='P8', age=67, senior_citizen_flag='Y')\n",
      "Row(patient_id='P79', age=50, senior_citizen_flag='N')\n",
      "Row(patient_id='P26', age=44, senior_citizen_flag='N')\n",
      "Row(patient_id='P13', age=42, senior_citizen_flag='N')\n",
      "Row(patient_id='P34', age=48, senior_citizen_flag='N')\n",
      "Row(patient_id='P23', age=43, senior_citizen_flag='N')\n",
      "Row(patient_id='P16', age=38, senior_citizen_flag='N')\n",
      "Row(patient_id='P43', age=57, senior_citizen_flag='N')\n",
      "Row(patient_id='P36', age=34, senior_citizen_flag='N')\n",
      "Row(patient_id='P44', age=40, senior_citizen_flag='N')\n",
      "Row(patient_id='P80', age=67, senior_citizen_flag='Y')\n",
      "Row(patient_id='P77', age=47, senior_citizen_flag='N')\n",
      "Row(patient_id='P94', age=42, senior_citizen_flag='N')\n",
      "Row(patient_id='P48', age=52, senior_citizen_flag='N')\n",
      "Row(patient_id='P28', age=57, senior_citizen_flag='N')\n",
      "Row(patient_id='P25', age=48, senior_citizen_flag='N')\n",
      "Row(patient_id='P56', age=56, senior_citizen_flag='N')\n",
      "Row(patient_id='P69', age=47, senior_citizen_flag='N')\n",
      "Row(patient_id='P63', age=59, senior_citizen_flag='N')\n",
      "Row(patient_id='P99', age=36, senior_citizen_flag='N')\n",
      "Row(patient_id='P37', age=59, senior_citizen_flag='N')\n",
      "Row(patient_id='P9', age=32, senior_citizen_flag='N')\n",
      "Row(patient_id='P22', age=66, senior_citizen_flag='Y')\n",
      "Row(patient_id='P50', age=68, senior_citizen_flag='Y')\n",
      "Row(patient_id='P1', age=45, senior_citizen_flag='N')\n",
      "Row(patient_id='P21', age=45, senior_citizen_flag='N')\n",
      "Row(patient_id='P96', age=52, senior_citizen_flag='N')\n",
      "Row(patient_id='P35', age=38, senior_citizen_flag='N')\n",
      "Row(patient_id='P85', age=65, senior_citizen_flag='Y')\n",
      "Row(patient_id='P53', age=64, senior_citizen_flag='Y')\n",
      "Row(patient_id='P6', age=43, senior_citizen_flag='N')\n",
      "Row(patient_id='P71', age=53, senior_citizen_flag='N')\n",
      "Row(patient_id='P89', age=64, senior_citizen_flag='Y')\n",
      "Row(patient_id='P29', age=42, senior_citizen_flag='N')\n",
      "Row(patient_id='P93', age=58, senior_citizen_flag='N')\n",
      "Row(patient_id='P51', age=39, senior_citizen_flag='N')\n",
      "Row(patient_id='P45', age=57, senior_citizen_flag='N')\n",
      "Row(patient_id='P4', age=40, senior_citizen_flag='N')\n",
      "Row(patient_id='P42', age=46, senior_citizen_flag='N')\n",
      "Row(patient_id='P20', age=55, senior_citizen_flag='N')\n",
      "Row(patient_id='P75', age=35, senior_citizen_flag='N')\n",
      "Row(patient_id='P32', age=39, senior_citizen_flag='N')\n",
      "Row(patient_id='P17', age=69, senior_citizen_flag='Y')\n",
      "Row(patient_id='P64', age=63, senior_citizen_flag='Y')\n",
      "Row(patient_id='P5', age=52, senior_citizen_flag='N')\n",
      "Row(patient_id='P59', age=68, senior_citizen_flag='Y')\n",
      "Row(patient_id='P100', age=45, senior_citizen_flag='N')\n",
      "Row(patient_id='P15', age=61, senior_citizen_flag='Y')\n",
      "Row(patient_id='P31', age=30, senior_citizen_flag='N')\n",
      "Row(patient_id='P27', age=51, senior_citizen_flag='N')\n",
      "Row(patient_id='P87', age=38, senior_citizen_flag='N')\n",
      "Row(patient_id='P55', age=67, senior_citizen_flag='Y')\n",
      "Row(patient_id='P68', age=67, senior_citizen_flag='Y')\n",
      "Row(patient_id='P76', age=45, senior_citizen_flag='N')\n",
      "Row(patient_id='P14', age=65, senior_citizen_flag='Y')\n",
      "Row(patient_id='P49', age=51, senior_citizen_flag='N')\n",
      "Row(patient_id='P57', age=47, senior_citizen_flag='N')\n",
      "Row(patient_id='P81', age=56, senior_citizen_flag='N')\n",
      "Row(patient_id='P62', age=47, senior_citizen_flag='N')\n",
      "Row(patient_id='P19', age=38, senior_citizen_flag='N')\n",
      "Row(patient_id='P2', age=32, senior_citizen_flag='N')\n",
      "Row(patient_id='P98', age=69, senior_citizen_flag='Y')\n",
      "Row(patient_id='P74', age=56, senior_citizen_flag='N')\n"
     ]
    }
   ],
   "source": [
    "# CHECKER\n",
    "\n",
    "query = \"SELECT * FROM healthcare.stage_senior_citizen\"\n",
    "result = session.execute(query)\n",
    "\n",
    "# Print the results\n",
    "for row in result:\n",
    "    print(row)"
   ]
  },
  {
   "cell_type": "code",
   "execution_count": null,
   "metadata": {
    "application/vnd.databricks.v1+cell": {
     "cellMetadata": {
      "byteLimit": 2048000,
      "rowLimit": 10000
     },
     "inputWidgets": {},
     "nuid": "2891b3bd-3ecf-4439-84a0-68c53ec8216b",
     "showTitle": false,
     "title": ""
    }
   },
   "outputs": [
    {
     "name": "stdout",
     "output_type": "stream",
     "text": [
      "FileInfo(path='gs://healthcare_analysis/input/health_data_20230801.csv', name='health_data_20230801.csv', size=3763, modificationTime=1703838448883) Moved in archive folder\n"
     ]
    }
   ],
   "source": [
    "# List and move input files to the archieve folder individually\n",
    "file_list = dbutils.fs.ls(data_directory)\n",
    "for file in file_list:\n",
    "    if file.name.endswith(\".csv\"):\n",
    "        print(f\"{file} Moved in archive folder\")\n",
    "        dbutils.fs.mv(file.path, os.path.join(archive_directory, file.name))"
   ]
  },
  {
   "cell_type": "code",
   "execution_count": null,
   "metadata": {
    "application/vnd.databricks.v1+cell": {
     "cellMetadata": {},
     "inputWidgets": {},
     "nuid": "ec325182-1765-4c49-873b-dd3abffba877",
     "showTitle": false,
     "title": ""
    }
   },
   "outputs": [],
   "source": []
  }
 ],
 "metadata": {
  "application/vnd.databricks.v1+notebook": {
   "dashboards": [],
   "language": "python",
   "notebookMetadata": {
    "mostRecentlyExecutedCommandWithImplicitDF": {
     "commandId": 151188277974517,
     "dataframes": [
      "_sqldf"
     ]
    },
    "pythonIndentUnit": 4
   },
   "notebookName": "stage_healthcare_analysis",
   "widgets": {}
  },
  "language_info": {
   "name": "python"
  }
 },
 "nbformat": 4,
 "nbformat_minor": 0
}
