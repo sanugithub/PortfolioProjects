{
 "cells": [
  {
   "cell_type": "code",
   "execution_count": 2,
   "id": "470da2d6-4084-4f45-b6f1-179f32f53dfd",
   "metadata": {},
   "outputs": [
    {
     "name": "stderr",
     "output_type": "stream",
     "text": [
      "C:\\Users\\Shubham\\AppData\\Local\\Temp\\ipykernel_16088\\3463947922.py:1: DeprecationWarning: \n",
      "Pyarrow will become a required dependency of pandas in the next major release of pandas (pandas 3.0),\n",
      "(to allow more performant data types, such as the Arrow string type, and better interoperability with other libraries)\n",
      "but was not found to be installed on your system.\n",
      "If this would cause problems for you,\n",
      "please provide us feedback at https://github.com/pandas-dev/pandas/issues/54466\n",
      "        \n",
      "  import pandas as pd\n"
     ]
    },
    {
     "name": "stdout",
     "output_type": "stream",
     "text": [
      "                               order_id                       customer_id  \\\n",
      "0      e481f51cbdc54678b7cc49136f2d6af7  9ef432eb6251297304e76186b10a928d   \n",
      "1      53cdb2fc8bc7dce0b6741e2150273451  b0830fb4747a6c6d20dea0b8c802d7ef   \n",
      "2      47770eb9100c2d0c44946d9cf07ec65d  41ce2a54c0b03bf3443c3d931a367089   \n",
      "3      949d5b44dbf5de918fe9c16f97b45f8a  f88197465ea7920adcdbec7375364d82   \n",
      "4      ad21c59c0840e6cb83a9ceb5573f8159  8ab97904e6daea8866dbdbc4fb7aad2c   \n",
      "...                                 ...                               ...   \n",
      "99436  9c5dedf39a927c1b2549525ed64a053c  39bd1228ee8140590ac3aca26f2dfe00   \n",
      "99437  63943bddc261676b46f01ca7ac2f7bd8  1fca14ff2861355f6e5f14306ff977a7   \n",
      "99438  83c1379a015df1e13d02aae0204711ab  1aa71eb042121263aafbe80c1b562c9c   \n",
      "99439  11c177c8e97725db2631073c19f07b62  b331b74b18dc79bcdf6532d51e1637c1   \n",
      "99440  66dea50a8b16d9b4dee7af250b4be1a5  edb027a75a1449115f6b43211ae02a24   \n",
      "\n",
      "      order_status order_purchase_timestamp order_approved_at  \\\n",
      "0        delivered         02-10-2017 10:56  02-10-2017 11:07   \n",
      "1        delivered         24-07-2018 20:41  26-07-2018 03:24   \n",
      "2        delivered         08-08-2018 08:38  08-08-2018 08:55   \n",
      "3        delivered         18-11-2017 19:28  18-11-2017 19:45   \n",
      "4        delivered         13-02-2018 21:18  13-02-2018 22:20   \n",
      "...            ...                      ...               ...   \n",
      "99436    delivered         09-03-2017 09:54  09-03-2017 09:54   \n",
      "99437    delivered         06-02-2018 12:58  06-02-2018 13:10   \n",
      "99438    delivered         27-08-2017 14:46  27-08-2017 15:04   \n",
      "99439    delivered         08-01-2018 21:28  08-01-2018 21:36   \n",
      "99440    delivered         08-03-2018 20:57  09-03-2018 11:20   \n",
      "\n",
      "      order_delivered_carrier_date order_delivered_customer_date  \\\n",
      "0                 04-10-2017 19:55              10-10-2017 21:25   \n",
      "1                 26-07-2018 14:31              07-08-2018 15:27   \n",
      "2                 08-08-2018 13:50              17-08-2018 18:06   \n",
      "3                 22-11-2017 13:39              02-12-2017 00:28   \n",
      "4                 14-02-2018 19:46              16-02-2018 18:17   \n",
      "...                            ...                           ...   \n",
      "99436             10-03-2017 11:18              17-03-2017 15:08   \n",
      "99437             07-02-2018 23:22              28-02-2018 17:37   \n",
      "99438             28-08-2017 20:52              21-09-2017 11:24   \n",
      "99439             12-01-2018 15:35              25-01-2018 23:32   \n",
      "99440             09-03-2018 22:11              16-03-2018 13:08   \n",
      "\n",
      "      order_estimated_delivery_date  \n",
      "0                  18-10-2017 00:00  \n",
      "1                  13-08-2018 00:00  \n",
      "2                  04-09-2018 00:00  \n",
      "3                  15-12-2017 00:00  \n",
      "4                  26-02-2018 00:00  \n",
      "...                             ...  \n",
      "99436              28-03-2017 00:00  \n",
      "99437              02-03-2018 00:00  \n",
      "99438              27-09-2017 00:00  \n",
      "99439              15-02-2018 00:00  \n",
      "99440              03-04-2018 00:00  \n",
      "\n",
      "[99441 rows x 8 columns]\n"
     ]
    }
   ],
   "source": [
    "import pandas as pd\n",
    "\n",
    "data = pd.read_csv('olist_orders_dataset.csv')\n",
    "print(data)"
   ]
  },
  {
   "cell_type": "code",
   "execution_count": null,
   "id": "5e19b634-3913-4e86-a234-3c38dca6c1d3",
   "metadata": {},
   "outputs": [],
   "source": []
  }
 ],
 "metadata": {
  "kernelspec": {
   "display_name": "Python 3 (ipykernel)",
   "language": "python",
   "name": "python3"
  },
  "language_info": {
   "codemirror_mode": {
    "name": "ipython",
    "version": 3
   },
   "file_extension": ".py",
   "mimetype": "text/x-python",
   "name": "python",
   "nbconvert_exporter": "python",
   "pygments_lexer": "ipython3",
   "version": "3.11.4"
  }
 },
 "nbformat": 4,
 "nbformat_minor": 5
}
